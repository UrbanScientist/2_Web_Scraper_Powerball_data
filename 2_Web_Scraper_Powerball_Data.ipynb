{
 "cells": [
  {
   "cell_type": "code",
   "execution_count": null,
   "metadata": {
    "collapsed": true
   },
   "outputs": [],
   "source": [
    "# The necessities\n",
    "import pandas as pd\n",
    "import matplotlib.pyplot as plt\n",
    "import numpy as np\n",
    "from bs4 import BeautifulSoup\n",
    "from requests import get\n",
    "import lxml.html as lh"
   ]
  },
  {
   "cell_type": "code",
   "execution_count": null,
   "metadata": {
    "collapsed": true
   },
   "outputs": [],
   "source": [
    "# Headers for our HTTP Requests\n",
    "headers = {\t'accept': 'text/html,application/xhtml+xml,application/xml;q=0.9,image/webp,*/*;q=0.8',\n",
    "            'accept-encoding': 'gzip, deflate, sdch, br',\n",
    "            'accept-language': 'en-GB,en-US;q=0.8,en;q=0.6',\n",
    "            'referer': 'https://www.',\n",
    "            'upgrade-insecure-requests': '1',\n",
    "            'user-agent': 'Mozilla/5.0 (X11; Linux x86_64) AppleWebKit/537.36 (KHTML, like Gecko) Ubuntu Chromium/51.0.2704.79 Chrome/51.0.2704.79 Safari/537.36',\n",
    "            'Cache-Control': 'no-cache',\n",
    "            'Connection': 'keep-alive' }"
   ]
  },
  {
   "cell_type": "code",
   "execution_count": null,
   "metadata": {
    "collapsed": true
   },
   "outputs": [],
   "source": [
    "def Gather_Data():\n",
    "    ''' This function makes a GET request to the Wisconson Lottery site, and collects the historical lottery numbers.'''\n",
    "    \n",
    "    #HTTP GET Call Setup\n",
    "    url = 'https://www.wilottery.com/lottogames/powerballhistoryOD.aspx'\n",
    "    response = get(url,headers=headers)\n",
    "    document = lh.fromstring(response.content)\n",
    "    table_elements = document.xpath('//tr')\n",
    "    \n",
    "    #Define the Column Headers for the 5 Empty Column Headers\n",
    "    num_list = ['Num_1', 'Num_2', 'Num_3', 'Num_4', 'Num_5']\n",
    "    \n",
    "    #Fill in the Column Headers\n",
    "    col_header = [i.text_content() for i in table_elements[0]]\n",
    "    col = [[i,[]] for i in col_header]\n",
    " \n",
    "    #Fill in the middle 5 empty column headers with num_list\n",
    "    for i in range(0,len(num_list)):\n",
    "        j = i+1\n",
    "        col[j][0] = num_list[i]\n",
    "\n",
    "    #Beacause the first row is the headers, the data is stored on the second row onwards\n",
    "    for j in range(1,len(table_elements)):\n",
    "        T=table_elements[j] \n",
    "        \n",
    "        # If the table has more than 8 Columns Break\n",
    "        if len(T)!=8:\n",
    "            break\n",
    "        #Convert the elements into integers and save them to col lists.     \n",
    "        i=0\n",
    "        for t in T.iterchildren():\n",
    "            data=t.text_content() \n",
    "            if i>0:\n",
    "                try:\n",
    "                    data=int(data)\n",
    "                except:\n",
    "                    pass\n",
    "            col[i][1].append(data)\n",
    "            i+=1\n",
    "    return "
   ]
  },
  {
   "cell_type": "code",
   "execution_count": null,
   "metadata": {
    "collapsed": true
   },
   "outputs": [],
   "source": [
    "#Call the Function\n",
    "Gather_Data()"
   ]
  },
  {
   "cell_type": "code",
   "execution_count": null,
   "metadata": {
    "collapsed": true
   },
   "outputs": [],
   "source": [
    "#Convert to a Dictionary\n",
    "Dict={header:column for (header,column) in col}\n",
    "\n",
    "#Create a DataFrame\n",
    "df=pd.DataFrame.from_dict(Dict)\n",
    "\n",
    "#Set the Date Column as the index\n",
    "df.set_index('Draw Date', inplace=True)\n",
    "\n",
    "#Convert the Index to a Pandas DatetimeIndex\n",
    "df.index = pd.to_datetime(df.index)"
   ]
  },
  {
   "cell_type": "code",
   "execution_count": null,
   "metadata": {
    "collapsed": true
   },
   "outputs": [],
   "source": [
    "#Selects all Non-Digits\n",
    "digits = r\"\\D+\"\n",
    "#Selects all spaces\n",
    "spaces = r\"\\s+\"\n",
    "\n",
    "#Splits the powerplay column into just the integer values\n",
    "df['Power Play_Clean'] = df['Power Play'].astype(str).str.split(spaces).str.get(1).str.split(digits).str.get(0)\n",
    "\n",
    "#Drop the old Powerplay column\n",
    "df.drop('Power Play', axis=1, inplace=True)\n",
    "\n",
    "#Add a new Powerplay column that contains the cleaned information\n",
    "df['Power Play'] = pd.to_numeric(df['Power Play_Clean'], errors='coerce', downcast='integer')\n",
    "\n",
    "#Drop the Cleaning Column\n",
    "df.drop('Power Play_Clean', axis=1, inplace=True)"
   ]
  },
  {
   "cell_type": "code",
   "execution_count": null,
   "metadata": {
    "collapsed": true
   },
   "outputs": [],
   "source": [
    "#Lets see what we have\n",
    "df.head()"
   ]
  }
 ],
 "metadata": {
  "kernelspec": {
   "display_name": "Python 3",
   "language": "python",
   "name": "python3"
  },
  "language_info": {
   "codemirror_mode": {
    "name": "ipython",
    "version": 3
   },
   "file_extension": ".py",
   "mimetype": "text/x-python",
   "name": "python",
   "nbconvert_exporter": "python",
   "pygments_lexer": "ipython3",
   "version": "3.6.5"
  }
 },
 "nbformat": 4,
 "nbformat_minor": 2
}
